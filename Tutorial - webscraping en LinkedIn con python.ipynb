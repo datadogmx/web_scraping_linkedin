{
 "cells": [
  {
   "cell_type": "markdown",
   "metadata": {},
   "source": [
    "# Tutorial: webscraping en LinkedIn con python\n",
    "\n",
    "Introduccion mamalon\n",
    "\n",
    "Este tutorial se realizo en un equipo de computo con Ubuntu 16.04 y con Python 3.5"
   ]
  },
  {
   "cell_type": "markdown",
   "metadata": {},
   "source": [
    "# Background"
   ]
  },
  {
   "cell_type": "markdown",
   "metadata": {},
   "source": [
    "<div style=\"width:image width px; font-size:80%; text-align:center;\"><img src=\"img/interes_tiempo.png\" alt=\"alternate text\" width=\"width\" height=\"height\" style=\"padding-bottom:0.5em;\" />Interes a lo largo del tiempo para el temino <strong>web scraping</strong></div>"
   ]
  },
  {
   "cell_type": "markdown",
   "metadata": {},
   "source": [
    "La principal razon por la que se eligio hacer este tutorial con python es por su popularidad, y por su facilidad de implementacion\n",
    "\n",
    "<div style=\"width:image width px; font-size:80%; text-align:center;\"><img src=\"img/consultas_relacionadas.png\" alt=\"alternate text\" width=\"width\" height=\"height\" style=\"padding-bottom:0.5em;\" />Consultas relacionadas a <strong>web scraping</strong></div>"
   ]
  },
  {
   "cell_type": "markdown",
   "metadata": {},
   "source": [
    "# Manos a la obra!"
   ]
  },
  {
   "cell_type": "markdown",
   "metadata": {},
   "source": [
    "## Ambientacion"
   ]
  },
  {
   "cell_type": "markdown",
   "metadata": {},
   "source": [
    "### Instalar selenium"
   ]
  },
  {
   "cell_type": "markdown",
   "metadata": {},
   "source": [
    "Para instalar selenium, bastara con ejecutar el comando: <br/>\n",
    "<code>pip install -U selenium</code> </br>\n",
    "\n",
    "Selenium es un entorno de pruebas de software para aplicaciones basadas en la web. En otras palabras es posible automatizar la realizacion de ciertas acciones en aplicaciones web, nosotros usaremos esta habilidad para simular hacer busquedas en la plataforma.\n",
    "\n",
    "Selenium requiere drivers para interacturar como un navegador. Firefox por ejemplo requiere geckodriver, que necesita ser instalado antes de poder correr con selenium. Asegurate de agregarlo a tu PATH, por ejemplo para sistemas linux en /usr/bin o /usr/local/bin o agregalo al ~/.bashrc\n",
    "\n",
    "Te adjuntamos las ligas en la tabla de abajo"
   ]
  },
  {
   "cell_type": "markdown",
   "metadata": {},
   "source": [
    "<table>\n",
    "<colgroup>\n",
    "<col>\n",
    "<col>\n",
    "</colgroup>\n",
    "<tbody>\n",
    "<tr><td><strong>Chrome</strong>:</td>\n",
    "<td><a href=\"https://sites.google.com/a/chromium.org/chromedriver/downloads\" rel=\"nofollow\">https://sites.google.com/a/chromium.org/chromedriver/downloads</a></td>\n",
    "</tr>\n",
    "<tr><td><strong>Edge</strong>:</td>\n",
    "<td><a href=\"https://developer.microsoft.com/en-us/microsoft-edge/tools/webdriver/\" rel=\"nofollow\">https://developer.microsoft.com/en-us/microsoft-edge/tools/webdriver/</a></td>\n",
    "</tr>\n",
    "<tr><td><strong>Firefox</strong>:</td>\n",
    "<td><a href=\"https://github.com/mozilla/geckodriver/releases\" rel=\"nofollow\">https://github.com/mozilla/geckodriver/releases</a></td>\n",
    "</tr>\n",
    "<tr><td><strong>Safari</strong>:</td>\n",
    "<td><a href=\"https://webkit.org/blog/6900/webdriver-support-in-safari-10/\" rel=\"nofollow\">https://webkit.org/blog/6900/webdriver-support-in-safari-10/</a></td>\n",
    "</tr>\n",
    "</tbody>\n",
    "</table>"
   ]
  },
  {
   "cell_type": "markdown",
   "metadata": {},
   "source": [
    "## Proceso"
   ]
  },
  {
   "cell_type": "markdown",
   "metadata": {},
   "source": [
    "### Paso 1: Importar librerias\n",
    "\n",
    "En caso de marcar error en alguna libreria, basta con ejecutar "
   ]
  },
  {
   "cell_type": "code",
   "execution_count": 1,
   "metadata": {},
   "outputs": [],
   "source": [
    "from selenium import webdriver\n",
    "from selenium.webdriver.common.keys import Keys\n",
    "from bs4 import BeautifulSoup\n",
    "import re\n",
    "import pandas as pd\n",
    "import pickle\n",
    "from functools import reduce"
   ]
  },
  {
   "cell_type": "markdown",
   "metadata": {},
   "source": [
    "### Paso 2: Generar Cookies con el Login"
   ]
  },
  {
   "cell_type": "markdown",
   "metadata": {},
   "source": [
    "Una vez instaladas las librerias y los drivers, necesitamos una sesion para poder navegar libremente por la plataforma, para eso es necesario abrir la sesion con el driver y posteriormente guardar los cookies generados con la libreria:\n",
    "<div style=\"width:image width px; font-size:80%; text-align:center;\"><img src=\"img/login_linked.gif\" alt=\"alternate text\" width=\"width\" height=\"height\" style=\"padding-bottom:0.5em;\" />Ejemplo del proceso a seguir para guardar cookie</div>"
   ]
  },
  {
   "cell_type": "code",
   "execution_count": 2,
   "metadata": {},
   "outputs": [],
   "source": [
    "# Funcion para guardar las cookies\n",
    "def save_cookie(driver, path):\n",
    "    with open(path, \"wb\") as filehandler:\n",
    "        pickle.dump(driver.get_cookies(), filehandler)\n",
    "\n",
    "# Ruta de la pagina para hacer login\n",
    "login_path = \"https://www.linkedin.com\"\n",
    "# Nombre con el que guardaremos la cookie generada\n",
    "cookie_name = \"cookie_link.pkl\"\n",
    "# Generando una sesion de Firefox con selenim\n",
    "driver = webdriver.Firefox()\n",
    "driver.implicitly_wait(30)\n",
    "driver.get(login_path)"
   ]
  },
  {
   "cell_type": "code",
   "execution_count": 3,
   "metadata": {},
   "outputs": [],
   "source": [
    "save_cookie(driver, cookie_name)"
   ]
  },
  {
   "cell_type": "markdown",
   "metadata": {},
   "source": [
    "### Paso 3: Cargar cookie y realizar una busqueda en LinkendIn"
   ]
  },
  {
   "cell_type": "code",
   "execution_count": 13,
   "metadata": {},
   "outputs": [],
   "source": [
    "from selenium.webdriver.common.keys import Keys\n",
    "\n",
    "from selenium.webdriver.common.action_chains import ActionChains\n",
    "# Funcion para cargar cookie guardada\n",
    "def load_cookie(driver, path):\n",
    "     with open(path, 'rb') as cookiesfile:\n",
    "        cookies = pickle.load(cookiesfile)\n",
    "        for cookie in cookies:\n",
    "            driver.add_cookie(cookie)\n",
    "# Este codigo lo obtuve revisando la liga que genera linkendIn cada vez que filtramos por ciudad\n",
    "places = {\"cdmx\":\"%5B%22mx%3A5921%22%5D\"}\n",
    "# Palabras que queremos buscar\n",
    "keywords = [\"ceo\", \"developer\"]\n",
    "\n",
    "# Genera la ruta que abriremos con el driver\n",
    "# La funcion usa la teconologia de busqueda implementada por linkedIn\n",
    "#  https://www.linkedin.com/help/linkedin/answer/76723/usa-la-busqueda-booleana-en-linkedin?lang=es\n",
    "def _search_people_link(place, keywords, num_page):\n",
    "    keywords_string = reduce(lambda a,b: \"{} O {}\".format(a, b), keywords)\n",
    "    keywords_string = keywords_string.replace(\" \",\"%20\")\n",
    "    return \"https://www.linkedin.com/search/results/people/?facetGeoRegion={}&keywords={}&origin=FACETED_SEARCH&page={}\".format(place, keywords_string, num_page)\n",
    "def get_contacts(driver):\n",
    "    content = BeautifulSoup(driver.page_source, 'lxml')\n",
    "    contacts = content.findAll(\"div\", {\"class\": \"search-result__info\"})\n",
    "    array_contacts = []\n",
    "    for contact in contacts:\n",
    "        con={}\n",
    "        con[\"name\"] = contact.findAll(\"span\", {\"class\": \"name actor-name\"} )[0].contents[0]\n",
    "        con[\"position\"] = contact.findAll(\"span\", {\"dir\": \"ltr\"})[0].contents[0]\n",
    "        con[\"location\"] = contact.findAll(\"span\", {\"dir\": \"ltr\"})[1].contents[0]\n",
    "        try:\n",
    "            con[\"distance\"] = contact.findAll(\"span\", {\"class\": \"distance-badge separator ember-view\"})[0]\\\n",
    "            .findAll(\"span\", {\"class\": \"dist-value\"})[0].contents[0]\n",
    "        except:\n",
    "            con[\"distance\"] = None\n",
    "        con[\"page\"] = page\n",
    "        array_contacts.append(con)\n",
    "    return array_contacts\n",
    "\n",
    "# Creando sesion con Firefox\n",
    "driver = webdriver.Firefox()\n",
    "driver.implicitly_wait(30)\n",
    "driver.get(login_path)\n",
    "# Recuperando sesion con las cookies\n",
    "load_cookie(driver, cookie_name)\n",
    "# Esperando a que la plataforme cargue la sesion\n",
    "driver.implicitly_wait(500)\n",
    "\n",
    "contacts = []\n",
    "past_num = 0\n",
    "for page in range(1,10000):\n",
    "    # Generando url con busqueda\n",
    "    url = _search_people_link(places[\"cdmx\"], keywords, page)\n",
    "    driver.get(url)\n",
    "    driver.implicitly_wait(100)\n",
    "    # Javascript renderiza solo lo que el usuario puede ver\n",
    "    driver.execute_script(\"window.scrollTo(0, document.body.scrollHeight*(1/ 5));\")\n",
    "    driver.implicitly_wait(100)\n",
    "    driver.execute_script(\"window.scrollTo( document.body.scrollHeight*(1/ 5), document.body.scrollHeight*(2/ 5));\")\n",
    "    driver.implicitly_wait(100)\n",
    "    driver.execute_script(\"window.scrollTo(document.body.scrollHeight*(2/ 5), document.body.scrollHeight*(3/ 5));\")\n",
    "    driver.implicitly_wait(100)\n",
    "    driver.execute_script(\"window.scrollTo(document.body.scrollHeight*(3/ 5), document.body.scrollHeight);\")\n",
    "    driver.implicitly_wait(100)\n",
    "    contacts = contacts + get_contacts(driver)\n",
    "    driver.implicitly_wait(100)\n",
    "    # Si ya no hay contactos que mostrar el script termina\n",
    "    if(past_num == len(contacts)):\n",
    "        break;\n",
    "    past_num=len(contacts)\n",
    "    "
   ]
  },
  {
   "cell_type": "markdown",
   "metadata": {},
   "source": [
    "<div style=\"width:image width px; font-size:80%; text-align:center;\"><img src=\"img/automated_linkedIn.gif\" alt=\"alternate text\" width=\"width\" height=\"height\" style=\"padding-bottom:0.5em;\" />Busqueda automatizada</div>"
   ]
  },
  {
   "cell_type": "markdown",
   "metadata": {},
   "source": [
    "# Paso 3: persistiendo la informacion\n",
    "\n",
    "En este punto tendriamos la informacion en un array de python, el siguiente paso es poder guardarlo en un csv para su posterior explotacion"
   ]
  },
  {
   "cell_type": "code",
   "execution_count": 18,
   "metadata": {},
   "outputs": [],
   "source": [
    "import pandas as pd\n",
    "dataframe = pd.DataFrame(contacts)\n",
    "dataframe.to_csv(\"linkedIn_2018-01-11\")"
   ]
  },
  {
   "cell_type": "code",
   "execution_count": 39,
   "metadata": {},
   "outputs": [
    {
     "data": {
      "text/html": [
       "<div>\n",
       "<style scoped>\n",
       "    .dataframe tbody tr th:only-of-type {\n",
       "        vertical-align: middle;\n",
       "    }\n",
       "\n",
       "    .dataframe tbody tr th {\n",
       "        vertical-align: top;\n",
       "    }\n",
       "\n",
       "    .dataframe thead th {\n",
       "        text-align: right;\n",
       "    }\n",
       "</style>\n",
       "<table border=\"1\" class=\"dataframe\">\n",
       "  <thead>\n",
       "    <tr style=\"text-align: right;\">\n",
       "      <th></th>\n",
       "      <th>distance</th>\n",
       "      <th>location</th>\n",
       "      <th>page</th>\n",
       "    </tr>\n",
       "  </thead>\n",
       "  <tbody>\n",
       "    <tr>\n",
       "      <th>0</th>\n",
       "      <td>2º</td>\n",
       "      <td>Ciudad de México y alrededores, México</td>\n",
       "      <td>1</td>\n",
       "    </tr>\n",
       "    <tr>\n",
       "      <th>1</th>\n",
       "      <td>2º</td>\n",
       "      <td>Ciudad de México y alrededores, México</td>\n",
       "      <td>1</td>\n",
       "    </tr>\n",
       "    <tr>\n",
       "      <th>2</th>\n",
       "      <td>2º</td>\n",
       "      <td>Ciudad de México y alrededores, México</td>\n",
       "      <td>1</td>\n",
       "    </tr>\n",
       "    <tr>\n",
       "      <th>3</th>\n",
       "      <td>2º</td>\n",
       "      <td>Ciudad de México y alrededores, México</td>\n",
       "      <td>1</td>\n",
       "    </tr>\n",
       "    <tr>\n",
       "      <th>4</th>\n",
       "      <td>2º</td>\n",
       "      <td>Ciudad de México y alrededores, México</td>\n",
       "      <td>1</td>\n",
       "    </tr>\n",
       "  </tbody>\n",
       "</table>\n",
       "</div>"
      ],
      "text/plain": [
       "  distance                                location  page\n",
       "0       2º  Ciudad de México y alrededores, México     1\n",
       "1       2º  Ciudad de México y alrededores, México     1\n",
       "2       2º  Ciudad de México y alrededores, México     1\n",
       "3       2º  Ciudad de México y alrededores, México     1\n",
       "4       2º  Ciudad de México y alrededores, México     1"
      ]
     },
     "execution_count": 39,
     "metadata": {},
     "output_type": "execute_result"
    }
   ],
   "source": [
    "dataframe.drop([\"name\", \"position\"], axis=1).head()"
   ]
  },
  {
   "cell_type": "markdown",
   "metadata": {},
   "source": [
    "# Paso extra: graficando resultados\n",
    "\n",
    "Algo interesante acerca de este metodo es que requiere que los pasos para interactuar en la pagina esten bien calibrados, si no se realiza ese paso es posible que al obtener la informacion esta venga incompleta, como una recomendacion si piensas usar un metodo similar toma en cuenta el tiempo y animacion de javascript en las paginas"
   ]
  },
  {
   "cell_type": "code",
   "execution_count": 19,
   "metadata": {},
   "outputs": [],
   "source": [
    "from matplotlib import pyplot as plt"
   ]
  },
  {
   "cell_type": "code",
   "execution_count": 34,
   "metadata": {},
   "outputs": [
    {
     "data": {
      "image/png": "[encoded data removed]",
      "text/plain": [
       "<Figure size 1440x864 with 1 Axes>"
      ]
     },
     "metadata": {
      "needs_background": "light"
     },
     "output_type": "display_data"
    }
   ],
   "source": [
    "dataframe.plot.hist(\"page\", figsize=(20, 12), bins=len(contacts))\n",
    "plt.title(\"Cantidad de contactos por pagina\")\n",
    "plt.show()"
   ]
  },
  {
   "cell_type": "markdown",
   "metadata": {},
   "source": [
    "# Fuentes\n",
    "https://pypi.org/project/selenium/"
   ]
  }
 ],
 "metadata": {
  "kernelspec": {
   "display_name": "Python 3",
   "language": "python",
   "name": "python3"
  },
  "language_info": {
   "codemirror_mode": {
    "name": "ipython",
    "version": 3
   },
   "file_extension": ".py",
   "mimetype": "text/x-python",
   "name": "python",
   "nbconvert_exporter": "python",
   "pygments_lexer": "ipython3",
   "version": "3.5.2"
  }
 },
 "nbformat": 4,
 "nbformat_minor": 2
}
