{
 "cells": [
  {
   "cell_type": "markdown",
   "metadata": {},
   "source": [
    "# Tutorial: webscraping en LinkedIn con python\n",
    "\n",
    "Introduccion mamalon\n",
    "\n",
    "Este tutorial se realizo en un equipo de computo con Ubuntu 16.04 y con Python 3.5"
   ]
  },
  {
   "cell_type": "markdown",
   "metadata": {},
   "source": [
    "# Background"
   ]
  },
  {
   "cell_type": "markdown",
   "metadata": {},
   "source": [
    "<div style=\"width:image width px; font-size:80%; text-align:center;\"><img src=\"img/interes_tiempo.png\" alt=\"alternate text\" width=\"width\" height=\"height\" style=\"padding-bottom:0.5em;\" />Interes a lo largo del tiempo para el temino <strong>web scraping</strong></div>"
   ]
  },
  {
   "cell_type": "markdown",
   "metadata": {},
   "source": [
    "La principal razon por la que se eligio hacer este tutorial con python es por su popularidad, y por su facilidad de implementacion\n",
    "\n",
    "<div style=\"width:image width px; font-size:80%; text-align:center;\"><img src=\"img/consultas_relacionadas.png\" alt=\"alternate text\" width=\"width\" height=\"height\" style=\"padding-bottom:0.5em;\" />Consultas relacionadas a <strong>web scraping</strong></div>"
   ]
  },
  {
   "cell_type": "markdown",
   "metadata": {},
   "source": [
    "# Manos a la obra!"
   ]
  },
  {
   "cell_type": "markdown",
   "metadata": {},
   "source": [
    "## Ambientacion"
   ]
  },
  {
   "cell_type": "markdown",
   "metadata": {},
   "source": [
    "### Instalar selenium"
   ]
  },
  {
   "cell_type": "markdown",
   "metadata": {},
   "source": [
    "Para instalar selenium, bastara con ejecutar el comando: <br/>\n",
    "<code>pip install -U selenium</code> </br>\n",
    "\n",
    "Selenium es un entorno de pruebas de software para aplicaciones basadas en la web. En otras palabras es posible automatizar la realizacion de ciertas acciones en aplicaciones web, nosotros usaremos esta habilidad para simular hacer busquedas en la plataforma.\n",
    "\n",
    "Selenium requiere drivers para interacturar como un navegador. Firefox por ejemplo requiere geckodriver, que necesita ser instalado antes de poder correr con selenium. Asegurate de agregarlo a tu PATH, por ejemplo para sistemas linux en /usr/bin o /usr/local/bin o agregalo al ~/.bashrc\n",
    "\n",
    "Te adjuntamos las ligas en la tabla de abajo"
   ]
  },
  {
   "cell_type": "markdown",
   "metadata": {},
   "source": [
    "<table>\n",
    "<colgroup>\n",
    "<col>\n",
    "<col>\n",
    "</colgroup>\n",
    "<tbody>\n",
    "<tr><td><strong>Chrome</strong>:</td>\n",
    "<td><a href=\"https://sites.google.com/a/chromium.org/chromedriver/downloads\" rel=\"nofollow\">https://sites.google.com/a/chromium.org/chromedriver/downloads</a></td>\n",
    "</tr>\n",
    "<tr><td><strong>Edge</strong>:</td>\n",
    "<td><a href=\"https://developer.microsoft.com/en-us/microsoft-edge/tools/webdriver/\" rel=\"nofollow\">https://developer.microsoft.com/en-us/microsoft-edge/tools/webdriver/</a></td>\n",
    "</tr>\n",
    "<tr><td><strong>Firefox</strong>:</td>\n",
    "<td><a href=\"https://github.com/mozilla/geckodriver/releases\" rel=\"nofollow\">https://github.com/mozilla/geckodriver/releases</a></td>\n",
    "</tr>\n",
    "<tr><td><strong>Safari</strong>:</td>\n",
    "<td><a href=\"https://webkit.org/blog/6900/webdriver-support-in-safari-10/\" rel=\"nofollow\">https://webkit.org/blog/6900/webdriver-support-in-safari-10/</a></td>\n",
    "</tr>\n",
    "</tbody>\n",
    "</table>"
   ]
  },
  {
   "cell_type": "markdown",
   "metadata": {},
   "source": [
    "## Proceso"
   ]
  },
  {
   "cell_type": "markdown",
   "metadata": {},
   "source": [
    "### Paso 1: Importar librerias\n",
    "\n",
    "En caso de marcar error en alguna libreria, basta con ejecutar "
   ]
  },
  {
   "cell_type": "code",
   "execution_count": 2,
   "metadata": {},
   "outputs": [],
   "source": [
    "from selenium import webdriver\n",
    "from selenium.webdriver.common.keys import Keys\n",
    "from bs4 import BeautifulSoup\n",
    "import re\n",
    "import pandas as pd\n",
    "import pickle\n",
    "from functools import reduce"
   ]
  },
  {
   "cell_type": "markdown",
   "metadata": {},
   "source": [
    "### Paso 2: Generar Cookies con el Login"
   ]
  },
  {
   "cell_type": "markdown",
   "metadata": {},
   "source": [
    "Una vez instaladas las librerias y los drivers, necesitamos una sesion para poder navegar libremente por la plataforma, para eso es necesario abrir la sesion con el driver y posteriormente guardar los cookies generados con la libreria:\n",
    "<div style=\"width:image width px; font-size:80%; text-align:center;\"><img src=\"img/login_linked.gif\" alt=\"alternate text\" width=\"width\" height=\"height\" style=\"padding-bottom:0.5em;\" />Ejemplo del proceso a seguir para guardar cookie</div>"
   ]
  },
  {
   "cell_type": "markdown",
   "metadata": {},
   "source": [
    "### Paso 3: Cargar cookie y realizar una busqueda en LinkendIn"
   ]
  },
  {
   "cell_type": "code",
   "execution_count": 107,
   "metadata": {},
   "outputs": [],
   "source": [
    "from selenium.webdriver.common.keys import Keys\n",
    "\n",
    "from selenium.webdriver.common.action_chains import ActionChains\n",
    "# Funcion para cargar cookie guardada\n",
    "def load_cookie(driver, path):\n",
    "     with open(path, 'rb') as cookiesfile:\n",
    "        cookies = pickle.load(cookiesfile)\n",
    "        for cookie in cookies:\n",
    "            driver.add_cookie(cookie)\n",
    "# Este codigo lo obtuve revisando la liga que genera linkendIn cada vez que filtramos por ciudad\n",
    "places = {\"cdmx\":\"%5B%22mx%3A5921%22%5D\"}\n",
    "# Palabras que queremos buscar\n",
    "keywords = [\"ceo\", \"developer\"]\n",
    "\n",
    "# Genera la ruta que abriremos con el driver\n",
    "# La funcion usa la teconologia de busqueda implementada por linkedIn\n",
    "#  https://www.linkedin.com/help/linkedin/answer/76723/usa-la-busqueda-booleana-en-linkedin?lang=es\n",
    "def _search_people_link(place, keywords, num_page):\n",
    "    keywords_string = reduce(lambda a,b: \"{} O {}\".format(a, b), keywords)\n",
    "    keywords_string = keywords_string.replace(\" \",\"%20\")\n",
    "    return \"https://www.linkedin.com/search/results/people/?facetGeoRegion={}&keywords={}&origin=FACETED_SEARCH&page={}\".format(place, keywords_string, num_page)\n",
    "def get_contacts(driver):\n",
    "    content = BeautifulSoup(driver.page_source, 'lxml')\n",
    "    contacts = content.findAll(\"div\", {\"class\": \"search-result__info\"})\n",
    "    array_contacts = []\n",
    "    for contact in contacts:\n",
    "        con={}\n",
    "        con[\"name\"] = contact.findAll(\"span\", {\"class\": \"name actor-name\"} )[0].contents[0]\n",
    "        con[\"position\"] = contact.findAll(\"span\", {\"dir\": \"ltr\"})[0].contents[0]\n",
    "        con[\"location\"] = contact.findAll(\"span\", {\"dir\": \"ltr\"})[1].contents[0]\n",
    "        array_contacts.append(con)\n",
    "    return array_contacts\n",
    "\n",
    "# Creando sesion con Firefox\n",
    "driver = webdriver.Firefox()\n",
    "driver.implicitly_wait(30)\n",
    "driver.get(login_path)\n",
    "# Recuperando sesion con las cookies\n",
    "load_cookie(driver, cookie_name)\n",
    "# Esperando a que la plataforme cargue la sesion\n",
    "driver.implicitly_wait(500)\n",
    "\n",
    "contacts = []\n",
    "past_num = 0\n",
    "for page in range(1,1000):\n",
    "    # Generando url con busqueda\n",
    "    url = _search_people_link(places[\"cdmx\"], keywords, page)\n",
    "    driver.get(url)\n",
    "    driver.implicitly_wait(100)\n",
    "    # Javascript renderiza solo lo que el usuario puede ver\n",
    "    driver.execute_script(\"window.scrollTo(0, document.body.scrollHeight*(1/ 5));\")\n",
    "    driver.implicitly_wait(100)\n",
    "    driver.execute_script(\"window.scrollTo(0, document.body.scrollHeight*(2/ 5));\")\n",
    "    driver.implicitly_wait(100)\n",
    "    driver.execute_script(\"window.scrollTo(0, document.body.scrollHeight*(3/ 5));\")\n",
    "    driver.implicitly_wait(100)\n",
    "    driver.execute_script(\"window.scrollTo(0, document.body.scrollHeight);\")\n",
    "    driver.implicitly_wait(100)\n",
    "    contacts = contacts + get_contacts(driver)\n",
    "    driver.implicitly_wait(100)\n",
    "    if(past_num == len(contacts)):\n",
    "        break;\n",
    "    past_num=len(contacts)\n",
    "    "
   ]
  },
  {
   "cell_type": "code",
   "execution_count": 108,
   "metadata": {},
   "outputs": [
    {
     "data": {
      "text/plain": [
       "114"
      ]
     },
     "execution_count": 108,
     "metadata": {},
     "output_type": "execute_result"
    }
   ],
   "source": [
    "len(contacts)"
   ]
  },
  {
   "cell_type": "markdown",
   "metadata": {},
   "source": [
    "<div style=\"width:image width px; font-size:80%; text-align:center;\"><img src=\"img/automated_linkedIn.gif\" alt=\"alternate text\" width=\"width\" height=\"height\" style=\"padding-bottom:0.5em;\" />Busqueda automatizada</div>"
   ]
  },
  {
   "cell_type": "markdown",
   "metadata": {},
   "source": [
    "# Paso 3: obteniendo informacion del documento\n",
    "\n",
    "A este punto podremos acceder a toda la informacion disponible en la pagina que hemos cargado,\n",
    "lo siguiente es tratar la informacion:"
   ]
  },
  {
   "cell_type": "code",
   "execution_count": 83,
   "metadata": {},
   "outputs": [],
   "source": [
    "content = BeautifulSoup(driver.page_source, 'lxml')"
   ]
  },
  {
   "cell_type": "code",
   "execution_count": null,
   "metadata": {},
   "outputs": [],
   "source": []
  },
  {
   "cell_type": "code",
   "execution_count": 84,
   "metadata": {},
   "outputs": [],
   "source": [
    "contacts = content.findAll(\"div\", {\"class\": \"search-result__info\"})"
   ]
  },
  {
   "cell_type": "code",
   "execution_count": null,
   "metadata": {},
   "outputs": [],
   "source": []
  },
  {
   "cell_type": "code",
   "execution_count": 85,
   "metadata": {},
   "outputs": [
    {
     "data": {
      "text/plain": [
       "10"
      ]
     },
     "execution_count": 85,
     "metadata": {},
     "output_type": "execute_result"
    }
   ],
   "source": [
    "len(contacts)"
   ]
  },
  {
   "cell_type": "code",
   "execution_count": 91,
   "metadata": {},
   "outputs": [
    {
     "data": {
      "text/plain": [
       "[<span dir=\"ltr\">Chief Executive Officer en Nomad Republic</span>,\n",
       " <span dir=\"ltr\">Ciudad de México y alrededores, México</span>]"
      ]
     },
     "execution_count": 91,
     "metadata": {},
     "output_type": "execute_result"
    }
   ],
   "source": []
  },
  {
   "cell_type": "code",
   "execution_count": 90,
   "metadata": {
    "scrolled": true
   },
   "outputs": [
    {
     "data": {
      "text/plain": [
       "<div class=\"search-result__info pt3 pb4 ph0\">\n",
       "<a class=\"search-result__result-link ember-view\" data-control-id=\"yDhF4SsZSHql9F+Fh0j9zg==\" data-control-name=\"search_srp_result\" href=\"/in/santiago-espinosa-de-los-monteros-harispuru-01ba9011b/\" id=\"ember63\"> <h3 class=\"actor-name-with-distance search-result__title single-line-truncate ember-view\" id=\"ember64\"><span class=\"name-and-icon\"><span class=\"name-and-distance\">\n",
       "<span class=\"name actor-name\">Santiago Espinosa de los Monteros Harispuru</span>\n",
       "<span class=\"distance-badge separator ember-view\" id=\"ember65\"> <span class=\"visually-hidden\">contacto de 2º grado</span>\n",
       "<span class=\"dist-value\">2º</span>\n",
       "</span>\n",
       "</span><!-- --></span>\n",
       "</h3>\n",
       "</a> <p class=\"subline-level-1 t-14 t-black t-normal search-result__truncate\">\n",
       "<span dir=\"ltr\">Chief Executive Officer en Nomad Republic</span>\n",
       "</p>\n",
       "<p class=\"subline-level-2 t-12 t-black--light t-normal search-result__truncate\">\n",
       "<span dir=\"ltr\">Ciudad de México y alrededores, México</span>\n",
       "</p>\n",
       "<p class=\"search-result__snippets mt2 t-12 t-black--light t-normal\">\n",
       "        Anterior: Program <strong>Developer</strong> en Student Energy\n",
       "      </p>\n",
       "<div class=\"ember-view\" id=\"ember66\"><a class=\"search-result__social-proof search-s-shared-connections__link t-12 t-black--light t-bold link-without-visited-state ember-view\" data-control-name=\"view_mutual_connections\" href=\"/search/results/people/?facetConnectionOf=%5B%22ACoAAB3hwRcBZ3z63i6Yl5-omGFKqH3oBkG2eP0%22%5D&amp;facetNetwork=%5B%22F%22%5D&amp;origin=SHARED_CONNECTIONS_CANNED_SEARCH\" id=\"ember67\">\n",
       "<ul class=\"ivm-entity-pile display-flex align-items-center ember-view\" id=\"ember68\"> <li class=\"ivm-entity-pile__img-item--stacked\">\n",
       "<div class=\"ivm-image-view-model ember-view\" id=\"ember70\"> <div class=\"display-flex ivm-view-attr__img-wrapper--use-img-tag ember-view\" id=\"ember71\"><!-- --> <img alt=\"Ronald Silva\" class=\"lazy-image ivm-view-attr__img--centered ivm-view-attr__img--stacked ivm-view-attr__img--stacked-circle-size-1 EntityPhoto-circle-1-stackedFacepile loaded\" src=\"https://media.licdn.com/dms/image/C4D03AQHUfWkDNpIpLg/profile-displayphoto-shrink_800_800/0?e=1552521600&amp;v=beta&amp;t=Epye2Wh8aYb28ACI0eNlzV0841dd6axVf2K9xPKkZsg\"/>\n",
       "</div>\n",
       "</div>\n",
       "</li>\n",
       "</ul>\n",
       "<span class=\"search-result__social-proof-count t-12 t-black--light t-bold text-align-left ml1\">\n",
       "        1 contacto en común\n",
       "    </span>\n",
       "</a>\n",
       "</div>\n",
       "</div>"
      ]
     },
     "execution_count": 90,
     "metadata": {},
     "output_type": "execute_result"
    }
   ],
   "source": [
    "contacts[0].findAll(\"div\", {\"class\": \"search-result__info\"})"
   ]
  },
  {
   "cell_type": "code",
   "execution_count": 99,
   "metadata": {},
   "outputs": [],
   "source": [
    "array_contacts = []\n",
    "for contact in contacts:\n",
    "    con={}\n",
    "    con[\"name\"] = contact.findAll(\"span\", {\"class\": \"name actor-name\"} )[0].contents[0]\n",
    "    con[\"position\"] = contact.findAll(\"span\", {\"dir\": \"ltr\"})[0].contents[0]\n",
    "    con[\"location\"] = contact.findAll(\"span\", {\"dir\": \"ltr\"})[1].contents[0]\n",
    "    array_contacts.append(con)"
   ]
  },
  {
   "cell_type": "code",
   "execution_count": null,
   "metadata": {},
   "outputs": [],
   "source": [
    "array_contacts"
   ]
  },
  {
   "cell_type": "code",
   "execution_count": 77,
   "metadata": {},
   "outputs": [
    {
     "data": {
      "text/plain": [
       "[None]"
      ]
     },
     "execution_count": 77,
     "metadata": {},
     "output_type": "execute_result"
    }
   ],
   "source": [
    "content.get_attribute_list(\"\")"
   ]
  },
  {
   "cell_type": "code",
   "execution_count": 26,
   "metadata": {},
   "outputs": [],
   "source": [
    "a = contacts[0]"
   ]
  },
  {
   "cell_type": "code",
   "execution_count": 34,
   "metadata": {},
   "outputs": [],
   "source": [
    "c = a.findAll(\"span\", {\"class\": \"name actor-name\"} )"
   ]
  },
  {
   "cell_type": "code",
   "execution_count": 37,
   "metadata": {},
   "outputs": [],
   "source": [
    "d = c[0]"
   ]
  },
  {
   "cell_type": "code",
   "execution_count": 41,
   "metadata": {},
   "outputs": [
    {
     "data": {
      "text/plain": [
       "['Santiago Espinosa de los Monteros Harispuru']"
      ]
     },
     "execution_count": 41,
     "metadata": {},
     "output_type": "execute_result"
    }
   ],
   "source": [
    "d.contents[]"
   ]
  },
  {
   "cell_type": "code",
   "execution_count": 32,
   "metadata": {},
   "outputs": [
    {
     "data": {
      "text/plain": [
       "<div class=\"search-result__info pt3 pb4 ph0\">\n",
       "<a class=\"search-result__result-link ember-view\" data-control-id=\"ZKfZ0MFpSPKGU8vQjvQtJQ==\" data-control-name=\"search_srp_result\" href=\"/in/santiago-espinosa-de-los-monteros-harispuru-01ba9011b/\" id=\"ember63\"> <h3 class=\"actor-name-with-distance search-result__title single-line-truncate ember-view\" id=\"ember64\"><span class=\"name-and-icon\"><span class=\"name-and-distance\">\n",
       "<span class=\"name actor-name\">Santiago Espinosa de los Monteros Harispuru</span>\n",
       "<span class=\"distance-badge separator ember-view\" id=\"ember65\"> <span class=\"visually-hidden\">contacto de 2º grado</span>\n",
       "<span class=\"dist-value\">2º</span>\n",
       "</span>\n",
       "</span><!-- --></span>\n",
       "</h3>\n",
       "</a> <p class=\"subline-level-1 t-14 t-black t-normal search-result__truncate\">\n",
       "<span dir=\"ltr\">Chief Executive Officer en Nomad Republic</span>\n",
       "</p>\n",
       "<p class=\"subline-level-2 t-12 t-black--light t-normal search-result__truncate\">\n",
       "<span dir=\"ltr\">Ciudad de México y alrededores, México</span>\n",
       "</p>\n",
       "<p class=\"search-result__snippets mt2 t-12 t-black--light t-normal\">\n",
       "        Anterior: Program <strong>Developer</strong> en Student Energy\n",
       "      </p>\n",
       "<div class=\"ember-view\" id=\"ember66\"><a class=\"search-result__social-proof search-s-shared-connections__link t-12 t-black--light t-bold link-without-visited-state ember-view\" data-control-name=\"view_mutual_connections\" href=\"/search/results/people/?facetConnectionOf=%5B%22ACoAAB3hwRcBZ3z63i6Yl5-omGFKqH3oBkG2eP0%22%5D&amp;facetNetwork=%5B%22F%22%5D&amp;origin=SHARED_CONNECTIONS_CANNED_SEARCH\" id=\"ember67\">\n",
       "<ul class=\"ivm-entity-pile display-flex align-items-center ember-view\" id=\"ember68\"> <li class=\"ivm-entity-pile__img-item--stacked\">\n",
       "<div class=\"ivm-image-view-model ember-view\" id=\"ember70\"> <div class=\"display-flex ivm-view-attr__img-wrapper--use-img-tag ember-view\" id=\"ember71\"><!-- --> <img alt=\"Ronald Silva\" class=\"lazy-image ivm-view-attr__img--centered ivm-view-attr__img--stacked ivm-view-attr__img--stacked-circle-size-1 EntityPhoto-circle-1-stackedFacepile loaded\" src=\"https://media.licdn.com/dms/image/C4D03AQHUfWkDNpIpLg/profile-displayphoto-shrink_800_800/0?e=1552521600&amp;v=beta&amp;t=Epye2Wh8aYb28ACI0eNlzV0841dd6axVf2K9xPKkZsg\"/>\n",
       "</div>\n",
       "</div>\n",
       "</li>\n",
       "</ul>\n",
       "<span class=\"search-result__social-proof-count t-12 t-black--light t-bold text-align-left ml1\">\n",
       "        1 contacto en común\n",
       "    </span>\n",
       "</a>\n",
       "</div>\n",
       "</div>"
      ]
     },
     "execution_count": 32,
     "metadata": {},
     "output_type": "execute_result"
    }
   ],
   "source": [
    "a.findAll"
   ]
  },
  {
   "cell_type": "code",
   "execution_count": null,
   "metadata": {},
   "outputs": [],
   "source": []
  },
  {
   "cell_type": "markdown",
   "metadata": {},
   "source": [
    "## Resultados"
   ]
  },
  {
   "cell_type": "markdown",
   "metadata": {},
   "source": [
    "## Conclusion"
   ]
  },
  {
   "cell_type": "markdown",
   "metadata": {},
   "source": [
    "## Fuentes"
   ]
  },
  {
   "cell_type": "markdown",
   "metadata": {},
   "source": [
    "## Instalar selenium"
   ]
  },
  {
   "cell_type": "markdown",
   "metadata": {},
   "source": [
    "## El driver"
   ]
  },
  {
   "cell_type": "markdown",
   "metadata": {},
   "source": []
  },
  {
   "cell_type": "markdown",
   "metadata": {},
   "source": [
    "La libreria que usaremos para simular la entrada a la pagina es <strong>selenium</strong>, para eso necesitaremos el driver de algun navegador instalado, en este caso el driver que usaremos es: ; el driver nos servira para ingresar a la plataforma como si lo hicieramos desde un navegador firefox"
   ]
  },
  {
   "cell_type": "markdown",
   "metadata": {},
   "source": [
    "# Fuentes\n",
    "https://pypi.org/project/selenium/"
   ]
  }
 ],
 "metadata": {
  "kernelspec": {
   "display_name": "Python 3",
   "language": "python",
   "name": "python3"
  },
  "language_info": {
   "codemirror_mode": {
    "name": "ipython",
    "version": 3
   },
   "file_extension": ".py",
   "mimetype": "text/x-python",
   "name": "python",
   "nbconvert_exporter": "python",
   "pygments_lexer": "ipython3",
   "version": "3.5.2"
  }
 },
 "nbformat": 4,
 "nbformat_minor": 2
}
