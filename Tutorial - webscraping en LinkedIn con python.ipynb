{
 "cells": [
  {
   "cell_type": "markdown",
   "metadata": {},
   "source": [
    "# Tutorial: webscraping en LinkedIn con python\n",
    "\n",
    "Introduccion mamalon\n",
    "\n",
    "Este tutorial se realizo en un equipo de computo con Ubuntu 16.04 y con Python 3.5"
   ]
  },
  {
   "cell_type": "markdown",
   "metadata": {},
   "source": [
    "# Background"
   ]
  },
  {
   "cell_type": "markdown",
   "metadata": {},
   "source": [
    "<div style=\"width:image width px; font-size:80%; text-align:center;\"><img src=\"img/interes_tiempo.png\" alt=\"alternate text\" width=\"width\" height=\"height\" style=\"padding-bottom:0.5em;\" />Interes a lo largo del tiempo para el temino <strong>web scraping</strong></div>"
   ]
  },
  {
   "cell_type": "markdown",
   "metadata": {},
   "source": [
    "La principal razon por la que se eligio hacer este tutorial con python es por su popularidad, y por su facilidad de implementacion\n",
    "\n",
    "<div style=\"width:image width px; font-size:80%; text-align:center;\"><img src=\"img/consultas_relacionadas.png\" alt=\"alternate text\" width=\"width\" height=\"height\" style=\"padding-bottom:0.5em;\" />Consultas relacionadas a <strong>web scraping</strong></div>"
   ]
  },
  {
   "cell_type": "markdown",
   "metadata": {},
   "source": [
    "# Manos a la obra!"
   ]
  },
  {
   "cell_type": "markdown",
   "metadata": {},
   "source": [
    "## Ambientacion"
   ]
  },
  {
   "cell_type": "markdown",
   "metadata": {},
   "source": [
    "### Instalar selenium"
   ]
  },
  {
   "cell_type": "markdown",
   "metadata": {},
   "source": [
    "Para instalar selenium, bastara con ejecutar el comando: <br/>\n",
    "<code>pip install -U selenium</code> </br>\n",
    "\n",
    "Selenium es un entorno de pruebas de software para aplicaciones basadas en la web. En otras palabras es posible automatizar la realizacion de ciertas acciones en aplicaciones web, nosotros usaremos esta habilidad para simular hacer busquedas en la plataforma.\n",
    "\n",
    "Selenium requiere drivers para interacturar como un navegador. Firefox por ejemplo requiere geckodriver, que necesita ser instalado antes de poder correr con selenium. Asegurate de agregarlo a tu PATH, por ejemplo para sistemas linux en /usr/bin o /usr/local/bin o agregalo al ~/.bashrc\n",
    "\n",
    "Te adjuntamos las ligas en la tabla de abajo"
   ]
  },
  {
   "cell_type": "markdown",
   "metadata": {},
   "source": [
    "<table>\n",
    "<colgroup>\n",
    "<col>\n",
    "<col>\n",
    "</colgroup>\n",
    "<tbody>\n",
    "<tr><td><strong>Chrome</strong>:</td>\n",
    "<td><a href=\"https://sites.google.com/a/chromium.org/chromedriver/downloads\" rel=\"nofollow\">https://sites.google.com/a/chromium.org/chromedriver/downloads</a></td>\n",
    "</tr>\n",
    "<tr><td><strong>Edge</strong>:</td>\n",
    "<td><a href=\"https://developer.microsoft.com/en-us/microsoft-edge/tools/webdriver/\" rel=\"nofollow\">https://developer.microsoft.com/en-us/microsoft-edge/tools/webdriver/</a></td>\n",
    "</tr>\n",
    "<tr><td><strong>Firefox</strong>:</td>\n",
    "<td><a href=\"https://github.com/mozilla/geckodriver/releases\" rel=\"nofollow\">https://github.com/mozilla/geckodriver/releases</a></td>\n",
    "</tr>\n",
    "<tr><td><strong>Safari</strong>:</td>\n",
    "<td><a href=\"https://webkit.org/blog/6900/webdriver-support-in-safari-10/\" rel=\"nofollow\">https://webkit.org/blog/6900/webdriver-support-in-safari-10/</a></td>\n",
    "</tr>\n",
    "</tbody>\n",
    "</table>"
   ]
  },
  {
   "cell_type": "markdown",
   "metadata": {},
   "source": [
    "## Proceso"
   ]
  },
  {
   "cell_type": "markdown",
   "metadata": {},
   "source": [
    "### Paso 1: Importar librerias\n",
    "\n",
    "En caso de marcar error en alguna libreria, basta con ejecutar "
   ]
  },
  {
   "cell_type": "code",
   "execution_count": null,
   "metadata": {},
   "outputs": [],
   "source": [
    "from selenium import webdriver\n",
    "from selenium.webdriver.common.keys import Keys\n",
    "from bs4 import BeautifulSoup\n",
    "import re\n",
    "import pandas as pd\n",
    "import pickle\n",
    "from functools import reduce"
   ]
  },
  {
   "cell_type": "markdown",
   "metadata": {},
   "source": [
    "### Paso 1: Generar Cookies con el Login"
   ]
  },
  {
   "cell_type": "markdown",
   "metadata": {},
   "source": [
    "Una vez instaladas las librerias y los drivers, necesitamos una sesion para poder navegar libremente por la plataforma, para eso es necesario abrir la sesion con el driver:"
   ]
  },
  {
   "cell_type": "code",
   "execution_count": null,
   "metadata": {},
   "outputs": [],
   "source": []
  },
  {
   "cell_type": "markdown",
   "metadata": {},
   "source": [
    "## Resultados"
   ]
  },
  {
   "cell_type": "markdown",
   "metadata": {},
   "source": [
    "## Conclusion"
   ]
  },
  {
   "cell_type": "markdown",
   "metadata": {},
   "source": [
    "## Fuentes"
   ]
  },
  {
   "cell_type": "markdown",
   "metadata": {},
   "source": [
    "## Instalar selenium"
   ]
  },
  {
   "cell_type": "markdown",
   "metadata": {},
   "source": [
    "## El driver"
   ]
  },
  {
   "cell_type": "markdown",
   "metadata": {},
   "source": []
  },
  {
   "cell_type": "markdown",
   "metadata": {},
   "source": [
    "La libreria que usaremos para simular la entrada a la pagina es <strong>selenium</strong>, para eso necesitaremos el driver de algun navegador instalado, en este caso el driver que usaremos es: ; el driver nos servira para ingresar a la plataforma como si lo hicieramos desde un navegador firefox"
   ]
  },
  {
   "cell_type": "markdown",
   "metadata": {},
   "source": [
    "# Fuentes\n",
    "https://pypi.org/project/selenium/"
   ]
  }
 ],
 "metadata": {
  "kernelspec": {
   "display_name": "Python 3",
   "language": "python",
   "name": "python3"
  },
  "language_info": {
   "codemirror_mode": {
    "name": "ipython",
    "version": 3
   },
   "file_extension": ".py",
   "mimetype": "text/x-python",
   "name": "python",
   "nbconvert_exporter": "python",
   "pygments_lexer": "ipython3",
   "version": "3.5.2"
  }
 },
 "nbformat": 4,
 "nbformat_minor": 2
}
